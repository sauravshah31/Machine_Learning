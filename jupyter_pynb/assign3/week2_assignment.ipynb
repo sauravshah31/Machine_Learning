{
  "nbformat": 4,
  "nbformat_minor": 0,
  "metadata": {
    "kernelspec": {
      "display_name": "Python 3",
      "language": "python",
      "name": "python3"
    },
    "language_info": {
      "codemirror_mode": {
        "name": "ipython",
        "version": 3
      },
      "file_extension": ".py",
      "mimetype": "text/x-python",
      "name": "python",
      "nbconvert_exporter": "python",
      "pygments_lexer": "ipython3",
      "version": "3.6.4"
    },
    "colab": {
      "name": "Copy of week2_assignment.ipynb",
      "provenance": [],
      "collapsed_sections": []
    }
  },
  "cells": [
    {
      "cell_type": "code",
      "metadata": {
        "id": "_v5vdxDTAg2e",
        "colab_type": "code",
        "colab": {}
      },
      "source": [
        "import tensorflow.compat.v1 as tf\n",
        "tf.disable_v2_behavior()\n",
        "%matplotlib inline\n",
        "import numpy as np # linear algebra\n",
        "import seaborn as sns #statistical data visualization\n",
        "sns.set(style='whitegrid')\n",
        "import pandas as pd # data processing, CSV file I/O (e.g. pd.read_csv)\n",
        "import matplotlib.pyplot as plt"
      ],
      "execution_count": 0,
      "outputs": []
    },
    {
      "cell_type": "code",
      "metadata": {
        "id": "tDpdz3P_Ag2o",
        "colab_type": "code",
        "outputId": "26f21d81-9945-489a-eacb-21c86d680239",
        "colab": {
          "base_uri": "https://localhost:8080/",
          "height": 206
        }
      },
      "source": [
        "#https://gist.githubusercontent.com/curran/a08a1080b88344b0c8a7/raw/639388c2cbc2120a14dcf466e85730eb8be498bb/iris.csv\n",
        "#link to download the CSV file\n",
        "Iris = pd.read_csv('https://gist.githubusercontent.com/curran/a08a1080b88344b0c8a7/raw/639388c2cbc2120a14dcf466e85730eb8be498bb/iris.csv')\n",
        "Iris.head()"
      ],
      "execution_count": 519,
      "outputs": [
        {
          "output_type": "execute_result",
          "data": {
            "text/html": [
              "<div>\n",
              "<style scoped>\n",
              "    .dataframe tbody tr th:only-of-type {\n",
              "        vertical-align: middle;\n",
              "    }\n",
              "\n",
              "    .dataframe tbody tr th {\n",
              "        vertical-align: top;\n",
              "    }\n",
              "\n",
              "    .dataframe thead th {\n",
              "        text-align: right;\n",
              "    }\n",
              "</style>\n",
              "<table border=\"1\" class=\"dataframe\">\n",
              "  <thead>\n",
              "    <tr style=\"text-align: right;\">\n",
              "      <th></th>\n",
              "      <th>sepal_length</th>\n",
              "      <th>sepal_width</th>\n",
              "      <th>petal_length</th>\n",
              "      <th>petal_width</th>\n",
              "      <th>species</th>\n",
              "    </tr>\n",
              "  </thead>\n",
              "  <tbody>\n",
              "    <tr>\n",
              "      <th>0</th>\n",
              "      <td>5.1</td>\n",
              "      <td>3.5</td>\n",
              "      <td>1.4</td>\n",
              "      <td>0.2</td>\n",
              "      <td>setosa</td>\n",
              "    </tr>\n",
              "    <tr>\n",
              "      <th>1</th>\n",
              "      <td>4.9</td>\n",
              "      <td>3.0</td>\n",
              "      <td>1.4</td>\n",
              "      <td>0.2</td>\n",
              "      <td>setosa</td>\n",
              "    </tr>\n",
              "    <tr>\n",
              "      <th>2</th>\n",
              "      <td>4.7</td>\n",
              "      <td>3.2</td>\n",
              "      <td>1.3</td>\n",
              "      <td>0.2</td>\n",
              "      <td>setosa</td>\n",
              "    </tr>\n",
              "    <tr>\n",
              "      <th>3</th>\n",
              "      <td>4.6</td>\n",
              "      <td>3.1</td>\n",
              "      <td>1.5</td>\n",
              "      <td>0.2</td>\n",
              "      <td>setosa</td>\n",
              "    </tr>\n",
              "    <tr>\n",
              "      <th>4</th>\n",
              "      <td>5.0</td>\n",
              "      <td>3.6</td>\n",
              "      <td>1.4</td>\n",
              "      <td>0.2</td>\n",
              "      <td>setosa</td>\n",
              "    </tr>\n",
              "  </tbody>\n",
              "</table>\n",
              "</div>"
            ],
            "text/plain": [
              "   sepal_length  sepal_width  petal_length  petal_width species\n",
              "0           5.1          3.5           1.4          0.2  setosa\n",
              "1           4.9          3.0           1.4          0.2  setosa\n",
              "2           4.7          3.2           1.3          0.2  setosa\n",
              "3           4.6          3.1           1.5          0.2  setosa\n",
              "4           5.0          3.6           1.4          0.2  setosa"
            ]
          },
          "metadata": {
            "tags": []
          },
          "execution_count": 519
        }
      ]
    },
    {
      "cell_type": "code",
      "metadata": {
        "id": "j9BJfP9gAg2w",
        "colab_type": "code",
        "outputId": "ba4115df-5ec6-4412-d833-8f250cec956c",
        "colab": {
          "base_uri": "https://localhost:8080/",
          "height": 34
        }
      },
      "source": [
        "Iris.shape"
      ],
      "execution_count": 520,
      "outputs": [
        {
          "output_type": "execute_result",
          "data": {
            "text/plain": [
              "(150, 5)"
            ]
          },
          "metadata": {
            "tags": []
          },
          "execution_count": 520
        }
      ]
    },
    {
      "cell_type": "code",
      "metadata": {
        "id": "sHA5b1T8Ag22",
        "colab_type": "code",
        "outputId": "f7251a49-0001-423b-ce1d-1107c2e281ab",
        "colab": {
          "base_uri": "https://localhost:8080/",
          "height": 34
        }
      },
      "source": [
        "#since we are gonna perform binary classification using Logistic Regression we will only include first 100 samples which consists of irises’ (Setosa and Versicolour)\n",
        "#line2-------------\n",
        "Iris = Iris.iloc[:100]\n",
        "Iris.shape"
      ],
      "execution_count": 521,
      "outputs": [
        {
          "output_type": "execute_result",
          "data": {
            "text/plain": [
              "(100, 5)"
            ]
          },
          "metadata": {
            "tags": []
          },
          "execution_count": 521
        }
      ]
    },
    {
      "cell_type": "code",
      "metadata": {
        "id": "MQVC0kAGAg28",
        "colab_type": "code",
        "colab": {}
      },
      "source": [
        "'''Step 2: Numerical processing\n",
        "replace 'Iris-setosa' as 0\n",
        "replace 'Iris-versicolor' as 1'''\n",
        "#line3-------------------------\n",
        "processed_col = Iris['species']=='versicolor'\n",
        "processed_col = [0 if x==False else 1 for x in processed_col]\n",
        "Iris['species']=pd.Series(processed_col)"
      ],
      "execution_count": 0,
      "outputs": []
    },
    {
      "cell_type": "code",
      "metadata": {
        "id": "SPs6169hAg3C",
        "colab_type": "code",
        "outputId": "52e473cd-f247-4e00-e824-dfef12b984ba",
        "colab": {
          "base_uri": "https://localhost:8080/",
          "height": 206
        }
      },
      "source": [
        "Iris.head()"
      ],
      "execution_count": 523,
      "outputs": [
        {
          "output_type": "execute_result",
          "data": {
            "text/html": [
              "<div>\n",
              "<style scoped>\n",
              "    .dataframe tbody tr th:only-of-type {\n",
              "        vertical-align: middle;\n",
              "    }\n",
              "\n",
              "    .dataframe tbody tr th {\n",
              "        vertical-align: top;\n",
              "    }\n",
              "\n",
              "    .dataframe thead th {\n",
              "        text-align: right;\n",
              "    }\n",
              "</style>\n",
              "<table border=\"1\" class=\"dataframe\">\n",
              "  <thead>\n",
              "    <tr style=\"text-align: right;\">\n",
              "      <th></th>\n",
              "      <th>sepal_length</th>\n",
              "      <th>sepal_width</th>\n",
              "      <th>petal_length</th>\n",
              "      <th>petal_width</th>\n",
              "      <th>species</th>\n",
              "    </tr>\n",
              "  </thead>\n",
              "  <tbody>\n",
              "    <tr>\n",
              "      <th>0</th>\n",
              "      <td>5.1</td>\n",
              "      <td>3.5</td>\n",
              "      <td>1.4</td>\n",
              "      <td>0.2</td>\n",
              "      <td>0</td>\n",
              "    </tr>\n",
              "    <tr>\n",
              "      <th>1</th>\n",
              "      <td>4.9</td>\n",
              "      <td>3.0</td>\n",
              "      <td>1.4</td>\n",
              "      <td>0.2</td>\n",
              "      <td>0</td>\n",
              "    </tr>\n",
              "    <tr>\n",
              "      <th>2</th>\n",
              "      <td>4.7</td>\n",
              "      <td>3.2</td>\n",
              "      <td>1.3</td>\n",
              "      <td>0.2</td>\n",
              "      <td>0</td>\n",
              "    </tr>\n",
              "    <tr>\n",
              "      <th>3</th>\n",
              "      <td>4.6</td>\n",
              "      <td>3.1</td>\n",
              "      <td>1.5</td>\n",
              "      <td>0.2</td>\n",
              "      <td>0</td>\n",
              "    </tr>\n",
              "    <tr>\n",
              "      <th>4</th>\n",
              "      <td>5.0</td>\n",
              "      <td>3.6</td>\n",
              "      <td>1.4</td>\n",
              "      <td>0.2</td>\n",
              "      <td>0</td>\n",
              "    </tr>\n",
              "  </tbody>\n",
              "</table>\n",
              "</div>"
            ],
            "text/plain": [
              "   sepal_length  sepal_width  petal_length  petal_width  species\n",
              "0           5.1          3.5           1.4          0.2        0\n",
              "1           4.9          3.0           1.4          0.2        0\n",
              "2           4.7          3.2           1.3          0.2        0\n",
              "3           4.6          3.1           1.5          0.2        0\n",
              "4           5.0          3.6           1.4          0.2        0"
            ]
          },
          "metadata": {
            "tags": []
          },
          "execution_count": 523
        }
      ]
    },
    {
      "cell_type": "code",
      "metadata": {
        "id": "1oJ78uA_Ag3I",
        "colab_type": "code",
        "outputId": "f2944673-82ab-4805-c4d0-a7eb6ff638e3",
        "colab": {
          "base_uri": "https://localhost:8080/",
          "height": 431
        }
      },
      "source": [
        "#visualization of given dataset\n",
        "#codesegment4------------------\n",
        "figure = plt.figure(figsize=(15,7))\n",
        "plt.plot(Iris[Iris['species']==0]['sepal_length'],Iris[Iris['species']==0]['sepal_width'],'ob')\n",
        "plt.plot(Iris[Iris['species']==1]['sepal_length'],Iris[Iris['species']==1]['sepal_width'],'o',color='orange')\n",
        "plt.legend(['Iris-setosa','Iris-versicolor'])\n",
        "plt.show()"
      ],
      "execution_count": 524,
      "outputs": [
        {
          "output_type": "display_data",
          "data": {
            "image/png": "[encoded data removed]",
            "text/plain": [
              "<Figure size 1080x504 with 1 Axes>"
            ]
          },
          "metadata": {
            "tags": []
          }
        }
      ]
    },
    {
      "cell_type": "code",
      "metadata": {
        "id": "2HxefjoDl2Sv",
        "colab_type": "code",
        "colab": {}
      },
      "source": [
        ""
      ],
      "execution_count": 0,
      "outputs": []
    },
    {
      "cell_type": "code",
      "metadata": {
        "colab_type": "code",
        "id": "NtzlBq3Ul15K",
        "colab": {}
      },
      "source": [
        "X = Iris.drop(labels=['species'], axis=1).values #feature matrix\n",
        "Y = Iris.species.values #output"
      ],
      "execution_count": 0,
      "outputs": []
    },
    {
      "cell_type": "code",
      "metadata": {
        "id": "d__MZAtiAg3V",
        "colab_type": "code",
        "colab": {}
      },
      "source": [
        "'''Step 3: Split data\n",
        "trainset: 80%\n",
        "testset: 20%'''\n",
        "# set seed for numpy and tensorflow\n",
        "# set for reproducible results\n",
        "seed = 5\n",
        "np.random.seed(seed)\n",
        "tf.set_random_seed(seed)\n",
        "\n",
        "#randomnly select 80% of the indices under variable train_index and rest under test_index\n",
        "total = Iris.shape[0]\n",
        "eighty = int(0.8 * total)\n",
        "train_index = np.random.randint(0,total,eighty)\n",
        "test_index = np.setdiff1d(np.arange(total),train_index)\n",
        "#test_index = np.array(list(set(range(len(X))) - set(train_index)))"
      ],
      "execution_count": 0,
      "outputs": []
    },
    {
      "cell_type": "code",
      "metadata": {
        "id": "tPmiCqbVAg3a",
        "colab_type": "code",
        "colab": {}
      },
      "source": [
        "train_X = X[train_index]\n",
        "train_y = Y[train_index]\n",
        "test_X = X[test_index]\n",
        "test_y = Y[test_index]"
      ],
      "execution_count": 0,
      "outputs": []
    },
    {
      "cell_type": "code",
      "metadata": {
        "id": "-Ukkj8NSAg3f",
        "colab_type": "code",
        "colab": {}
      },
      "source": [
        "# Define the min-max normalization function\n",
        "def min_max_normalized(data): # we are using here min-max normalisation, helpful to bring down every values in all the feature columns of the dataset to common scale \n",
        "  max = np.max(data,axis=0)\n",
        "  min = np.min(data,axis=0)\n",
        "  range = max-min\n",
        "  data = data/range\n",
        "  return data"
      ],
      "execution_count": 0,
      "outputs": []
    },
    {
      "cell_type": "code",
      "metadata": {
        "id": "MLtDm47gAg3l",
        "colab_type": "code",
        "colab": {}
      },
      "source": [
        "# Begin building the model framework\n",
        "# Declare the variables that need to be learned and initialization\n",
        "# There are 4 features here, so W's dimension is (4, 1)\n",
        "# line9---------------------------- #weights\n",
        "W = tf.Variable(tf.zeros(shape=[4,1]))\n",
        "b = tf.Variable(tf.random.normal(shape=[1, 1])) #bias\n",
        "#constructor for random initialization\n",
        "\n",
        "init = tf.global_variables_initializer()\n",
        "sess = tf.Session()\n",
        "sess.run(init)"
      ],
      "execution_count": 0,
      "outputs": []
    },
    {
      "cell_type": "code",
      "metadata": {
        "id": "3D33yPKlAg3s",
        "colab_type": "code",
        "colab": {}
      },
      "source": [
        "# Define placeholders\n",
        "data = tf.placeholder(dtype=tf.float32, shape=[None, 4])#comment on the difference between tf.placeholder and tf.variable-----\n",
        "target = tf.placeholder(dtype=tf.float32, shape=[None, 1])"
      ],
      "execution_count": 0,
      "outputs": []
    },
    {
      "cell_type": "code",
      "metadata": {
        "id": "_M2SUf9BGKEQ",
        "colab_type": "code",
        "colab": {}
      },
      "source": [
        "a=tf.placeholder(tf.float32, shape=[None,4])\n",
        "b=tf.placeholder(tf.float32, shape=[None,1])\n",
        "w=tf.Variable(tf.random_normal(shape=[4,1]))\n",
        "mult=a*b\n",
        "init=tf.global_variables_initializer()\n",
        "#with tf.Session() as sess:\n",
        "#  sess.run(init)\n",
        "  #mult_result=sess.run(mult, feed_dict={a:train_X,b:w})\n",
        "#print(mult_result)"
      ],
      "execution_count": 0,
      "outputs": []
    },
    {
      "cell_type": "code",
      "metadata": {
        "id": "Ce45iz4dAg32",
        "colab_type": "code",
        "colab": {}
      },
      "source": [
        "# Declare the 'model' you need to learn\n",
        "model = tf.matmul(data,W)+b"
      ],
      "execution_count": 0,
      "outputs": []
    },
    {
      "cell_type": "code",
      "metadata": {
        "id": "Pvk6PwmhAg36",
        "colab_type": "code",
        "colab": {}
      },
      "source": [
        "# Declare loss function\n",
        "# Use the sigmoid cross-entropy loss function,\n",
        "# first doing a sigmoid on the model result and then using the cross-entropy loss function\n",
        "loss = tf.reduce_mean(tf.nn.sigmoid_cross_entropy_with_logits(logits=model, labels=target))"
      ],
      "execution_count": 0,
      "outputs": []
    },
    {
      "cell_type": "code",
      "metadata": {
        "id": "QnI6baGyAg3_",
        "colab_type": "code",
        "colab": {}
      },
      "source": [
        "# Define the learning rate， batch_size and number of iterations.\n",
        "learning_rate=0.01\n",
        "batch_size=50 #using batch makes the training ? ->faster\n",
        "iter_num = 1500"
      ],
      "execution_count": 0,
      "outputs": []
    },
    {
      "cell_type": "code",
      "metadata": {
        "id": "36wWl9-UAg4E",
        "colab_type": "code",
        "colab": {}
      },
      "source": [
        "# Define the optimizer with name opt\n",
        "opt = tf.train.GradientDescentOptimizer(learning_rate=learning_rate)\n",
        "# Define the goal\n",
        "goal = opt.minimize(loss)"
      ],
      "execution_count": 0,
      "outputs": []
    },
    {
      "cell_type": "code",
      "metadata": {
        "id": "lCAkqMk1Ag4K",
        "colab_type": "code",
        "colab": {}
      },
      "source": [
        "# Define the accuracy\n",
        "# The default threshold is 0.5, rounded off directly\n",
        "prediction = tf.round(tf.sigmoid(model))\n",
        "# Bool into float32 type\n",
        "correct = tf.cast(tf.equal(prediction, target), dtype=tf.float32)\n",
        "# Average\n",
        "accuracy = tf.reduce_mean(correct)\n",
        "# End of the definition of the model framework"
      ],
      "execution_count": 0,
      "outputs": []
    },
    {
      "cell_type": "code",
      "metadata": {
        "id": "rBQW_wGqAg4Q",
        "colab_type": "code",
        "colab": {}
      },
      "source": [
        "# Start training model\n",
        "# Define the variable that stores the result\n",
        "loss_trace = []\n",
        "train_acc = []"
      ],
      "execution_count": 0,
      "outputs": []
    },
    {
      "cell_type": "code",
      "metadata": {
        "id": "I2Orf3sWAg4V",
        "colab_type": "code",
        "outputId": "a6400e59-dc09-4dc4-8f27-37df7cb05ba1",
        "colab": {
          "base_uri": "https://localhost:8080/",
          "height": 295
        }
      },
      "source": [
        "# training model using mini-batch gradient descent\n",
        "for epoch in range(iter_num):\n",
        "    # Generate random batch_index\n",
        "    batch_index = np.random.randint(0,len(train_X),size=batch_size) #randomnly picks up up 50 sample data from the train_X\n",
        "    batch_train_X = train_X[batch_index]\n",
        "    batch_train_y = np.matrix(train_y[batch_index]).T\n",
        "    sess.run(goal, feed_dict={data: batch_train_X, target: batch_train_y})\n",
        "    temp_loss = sess.run(loss, feed_dict={data: batch_train_X, target: batch_train_y})\n",
        "    #Similarly store train accuracy value for current epoch using sess.run\n",
        "    temp_train_acc = sess.run(accuracy, feed_dict={data: train_X, target: np.matrix(train_y).T})\n",
        "    # recode the results of loss and train accuracy\n",
        "    loss_trace.append(temp_loss)\n",
        "    train_acc.append(temp_train_acc)\n",
        "    # output\n",
        "    if (epoch + 1) % 100 == 0:\n",
        "      print('epoch: {:4d} loss: {:5f} train_acc: {:5f} '.format(epoch + 1, temp_loss,temp_train_acc))\n",
        "#Write the command to calculate test accuracy:\n",
        "test_accuracy = sess.run(accuracy, feed_dict={data:train_X,target:np.matrix(train_y).T})\n",
        "print(\"The test accuracy is: {:5f}\".format(test_accuracy))"
      ],
      "execution_count": 538,
      "outputs": [
        {
          "output_type": "stream",
          "text": [
            "epoch:  100 loss: 0.413494 train_acc: 1.000000 \n",
            "epoch:  200 loss: 0.258929 train_acc: 1.000000 \n",
            "epoch:  300 loss: 0.185478 train_acc: 1.000000 \n",
            "epoch:  400 loss: 0.152115 train_acc: 1.000000 \n",
            "epoch:  500 loss: 0.124669 train_acc: 1.000000 \n",
            "epoch:  600 loss: 0.095510 train_acc: 1.000000 \n",
            "epoch:  700 loss: 0.084392 train_acc: 1.000000 \n",
            "epoch:  800 loss: 0.070596 train_acc: 1.000000 \n",
            "epoch:  900 loss: 0.067433 train_acc: 1.000000 \n",
            "epoch: 1000 loss: 0.070314 train_acc: 1.000000 \n",
            "epoch: 1100 loss: 0.056879 train_acc: 1.000000 \n",
            "epoch: 1200 loss: 0.049399 train_acc: 1.000000 \n",
            "epoch: 1300 loss: 0.050562 train_acc: 1.000000 \n",
            "epoch: 1400 loss: 0.043117 train_acc: 1.000000 \n",
            "epoch: 1500 loss: 0.040108 train_acc: 1.000000 \n",
            "The test accuracy is: 1.000000\n"
          ],
          "name": "stdout"
        }
      ]
    },
    {
      "cell_type": "code",
      "metadata": {
        "id": "tbBZehEEAg4Z",
        "colab_type": "code",
        "outputId": "d50e2bc2-5eb6-4ca8-94e9-e31870bc088f",
        "colab": {
          "base_uri": "https://localhost:8080/",
          "height": 406
        }
      },
      "source": [
        "# Visualization of the results\n",
        "# loss function\n",
        "plt.figure(figsize=(17,7))\n",
        "plt.plot(loss_trace)\n",
        "plt.title('Cross Entrophy Loss')\n",
        "plt.xlabel('epoch')\n",
        "plt.ylabel('loss')\n",
        "plt.show()"
      ],
      "execution_count": 544,
      "outputs": [
        {
          "output_type": "display_data",
          "data": {
            "image/png": "[encoded data removed]",
            "text/plain": [
              "<Figure size 1224x504 with 1 Axes>"
            ]
          },
          "metadata": {
            "tags": []
          }
        }
      ]
    },
    {
      "cell_type": "code",
      "metadata": {
        "id": "SLO1EL-bAg4e",
        "colab_type": "code",
        "outputId": "ff6c1034-6de2-46f9-9f9d-ded565cfb9a7",
        "colab": {
          "base_uri": "https://localhost:8080/",
          "height": 406
        }
      },
      "source": [
        "# plot for training accuracy\n",
        "plt.figure(figsize=(17,7))\n",
        "plt.plot(train_acc,'k-')\n",
        "plt.xlabel('epoch')\n",
        "plt.ylabel('accuracy')\n",
        "plt.title('Train and Test Accuracy')\n",
        "plt.show()"
      ],
      "execution_count": 546,
      "outputs": [
        {
          "output_type": "display_data",
          "data": {
            "image/png": "[encoded data removed]",
            "text/plain": [
              "<Figure size 1224x504 with 1 Axes>"
            ]
          },
          "metadata": {
            "tags": []
          }
        }
      ]
    },
    {
      "cell_type": "code",
      "metadata": {
        "id": "ULZMzg4kv0qe",
        "colab_type": "code",
        "colab": {}
      },
      "source": [
        ""
      ],
      "execution_count": 0,
      "outputs": []
    }
  ]
}